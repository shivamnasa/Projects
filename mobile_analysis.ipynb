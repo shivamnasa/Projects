{
 "cells": [
  {
   "cell_type": "code",
   "execution_count": 3,
   "id": "b96d271b-de86-494c-be39-f7e0996c49ce",
   "metadata": {},
   "outputs": [],
   "source": [
    "#IMPORTING LIBRARIES\n",
    "import pandas as pd\n",
    "import numpy as np\n",
    "import matplotlib.pylab as plt \n",
    "import seaborn as sns\n",
    "plt.style.use('ggplot')\n",
    "pd.set_option(\"display.max_rows\", None)"
   ]
  },
  {
   "cell_type": "code",
   "execution_count": 5,
   "id": "2d291b67-0364-4655-b403-6f1d6c7ced91",
   "metadata": {},
   "outputs": [],
   "source": [
    "#READING THE FILE\n",
    "df = pd.read_csv(\"Mobiles Dataset (2025).csv\",encoding='windows-1254')"
   ]
  },
  {
   "cell_type": "code",
   "execution_count": 7,
   "id": "5c1f32d8-d336-4980-8b1c-658873bfc624",
   "metadata": {},
   "outputs": [
    {
     "data": {
      "text/plain": [
       "(930, 15)"
      ]
     },
     "execution_count": 7,
     "metadata": {},
     "output_type": "execute_result"
    }
   ],
   "source": [
    "df.shape"
   ]
  },
  {
   "cell_type": "code",
   "execution_count": 9,
   "id": "3396a008-09da-4541-83f8-5d130834716e",
   "metadata": {},
   "outputs": [
    {
     "data": {
      "text/html": [
       "<div>\n",
       "<style scoped>\n",
       "    .dataframe tbody tr th:only-of-type {\n",
       "        vertical-align: middle;\n",
       "    }\n",
       "\n",
       "    .dataframe tbody tr th {\n",
       "        vertical-align: top;\n",
       "    }\n",
       "\n",
       "    .dataframe thead th {\n",
       "        text-align: right;\n",
       "    }\n",
       "</style>\n",
       "<table border=\"1\" class=\"dataframe\">\n",
       "  <thead>\n",
       "    <tr style=\"text-align: right;\">\n",
       "      <th></th>\n",
       "      <th>Company Name</th>\n",
       "      <th>Model Name</th>\n",
       "      <th>Mobile Weight</th>\n",
       "      <th>RAM</th>\n",
       "      <th>Front Camera</th>\n",
       "      <th>Back Camera</th>\n",
       "      <th>Processor</th>\n",
       "      <th>Battery Capacity</th>\n",
       "      <th>Screen Size</th>\n",
       "      <th>Launched Price (Pakistan)</th>\n",
       "      <th>Launched Price (India)</th>\n",
       "      <th>Launched Price (China)</th>\n",
       "      <th>Launched Price (USA)</th>\n",
       "      <th>Launched Price (Dubai)</th>\n",
       "      <th>Launched Year</th>\n",
       "    </tr>\n",
       "  </thead>\n",
       "  <tbody>\n",
       "    <tr>\n",
       "      <th>0</th>\n",
       "      <td>Apple</td>\n",
       "      <td>iPhone 16 128GB</td>\n",
       "      <td>174g</td>\n",
       "      <td>6GB</td>\n",
       "      <td>12MP</td>\n",
       "      <td>48MP</td>\n",
       "      <td>A17 Bionic</td>\n",
       "      <td>3,600mAh</td>\n",
       "      <td>6.1 inches</td>\n",
       "      <td>PKR 224,999</td>\n",
       "      <td>INR 79,999</td>\n",
       "      <td>CNY 5,799</td>\n",
       "      <td>USD 799</td>\n",
       "      <td>AED 2,799</td>\n",
       "      <td>2024</td>\n",
       "    </tr>\n",
       "    <tr>\n",
       "      <th>1</th>\n",
       "      <td>Apple</td>\n",
       "      <td>iPhone 16 256GB</td>\n",
       "      <td>174g</td>\n",
       "      <td>6GB</td>\n",
       "      <td>12MP</td>\n",
       "      <td>48MP</td>\n",
       "      <td>A17 Bionic</td>\n",
       "      <td>3,600mAh</td>\n",
       "      <td>6.1 inches</td>\n",
       "      <td>PKR 234,999</td>\n",
       "      <td>INR 84,999</td>\n",
       "      <td>CNY 6,099</td>\n",
       "      <td>USD 849</td>\n",
       "      <td>AED 2,999</td>\n",
       "      <td>2024</td>\n",
       "    </tr>\n",
       "    <tr>\n",
       "      <th>2</th>\n",
       "      <td>Apple</td>\n",
       "      <td>iPhone 16 512GB</td>\n",
       "      <td>174g</td>\n",
       "      <td>6GB</td>\n",
       "      <td>12MP</td>\n",
       "      <td>48MP</td>\n",
       "      <td>A17 Bionic</td>\n",
       "      <td>3,600mAh</td>\n",
       "      <td>6.1 inches</td>\n",
       "      <td>PKR 244,999</td>\n",
       "      <td>INR 89,999</td>\n",
       "      <td>CNY 6,499</td>\n",
       "      <td>USD 899</td>\n",
       "      <td>AED 3,199</td>\n",
       "      <td>2024</td>\n",
       "    </tr>\n",
       "    <tr>\n",
       "      <th>3</th>\n",
       "      <td>Apple</td>\n",
       "      <td>iPhone 16 Plus 128GB</td>\n",
       "      <td>203g</td>\n",
       "      <td>6GB</td>\n",
       "      <td>12MP</td>\n",
       "      <td>48MP</td>\n",
       "      <td>A17 Bionic</td>\n",
       "      <td>4,200mAh</td>\n",
       "      <td>6.7 inches</td>\n",
       "      <td>PKR 249,999</td>\n",
       "      <td>INR 89,999</td>\n",
       "      <td>CNY 6,199</td>\n",
       "      <td>USD 899</td>\n",
       "      <td>AED 3,199</td>\n",
       "      <td>2024</td>\n",
       "    </tr>\n",
       "    <tr>\n",
       "      <th>4</th>\n",
       "      <td>Apple</td>\n",
       "      <td>iPhone 16 Plus 256GB</td>\n",
       "      <td>203g</td>\n",
       "      <td>6GB</td>\n",
       "      <td>12MP</td>\n",
       "      <td>48MP</td>\n",
       "      <td>A17 Bionic</td>\n",
       "      <td>4,200mAh</td>\n",
       "      <td>6.7 inches</td>\n",
       "      <td>PKR 259,999</td>\n",
       "      <td>INR 94,999</td>\n",
       "      <td>CNY 6,499</td>\n",
       "      <td>USD 949</td>\n",
       "      <td>AED 3,399</td>\n",
       "      <td>2024</td>\n",
       "    </tr>\n",
       "  </tbody>\n",
       "</table>\n",
       "</div>"
      ],
      "text/plain": [
       "  Company Name            Model Name Mobile Weight  RAM Front Camera  \\\n",
       "0        Apple       iPhone 16 128GB          174g  6GB         12MP   \n",
       "1        Apple       iPhone 16 256GB          174g  6GB         12MP   \n",
       "2        Apple       iPhone 16 512GB          174g  6GB         12MP   \n",
       "3        Apple  iPhone 16 Plus 128GB          203g  6GB         12MP   \n",
       "4        Apple  iPhone 16 Plus 256GB          203g  6GB         12MP   \n",
       "\n",
       "  Back Camera   Processor Battery Capacity Screen Size  \\\n",
       "0        48MP  A17 Bionic         3,600mAh  6.1 inches   \n",
       "1        48MP  A17 Bionic         3,600mAh  6.1 inches   \n",
       "2        48MP  A17 Bionic         3,600mAh  6.1 inches   \n",
       "3        48MP  A17 Bionic         4,200mAh  6.7 inches   \n",
       "4        48MP  A17 Bionic         4,200mAh  6.7 inches   \n",
       "\n",
       "  Launched Price (Pakistan) Launched Price (India) Launched Price (China)  \\\n",
       "0               PKR 224,999             INR 79,999              CNY 5,799   \n",
       "1               PKR 234,999             INR 84,999              CNY 6,099   \n",
       "2               PKR 244,999             INR 89,999              CNY 6,499   \n",
       "3               PKR 249,999             INR 89,999              CNY 6,199   \n",
       "4               PKR 259,999             INR 94,999              CNY 6,499   \n",
       "\n",
       "  Launched Price (USA) Launched Price (Dubai)  Launched Year  \n",
       "0              USD 799              AED 2,799           2024  \n",
       "1              USD 849              AED 2,999           2024  \n",
       "2              USD 899              AED 3,199           2024  \n",
       "3              USD 899              AED 3,199           2024  \n",
       "4              USD 949              AED 3,399           2024  "
      ]
     },
     "execution_count": 9,
     "metadata": {},
     "output_type": "execute_result"
    }
   ],
   "source": [
    "df.head()"
   ]
  },
  {
   "cell_type": "code",
   "execution_count": 11,
   "id": "8985154f-e017-43e3-9073-cb1971f4c9e6",
   "metadata": {},
   "outputs": [
    {
     "data": {
      "text/plain": [
       "Company Name                 object\n",
       "Model Name                   object\n",
       "Mobile Weight                object\n",
       "RAM                          object\n",
       "Front Camera                 object\n",
       "Back Camera                  object\n",
       "Processor                    object\n",
       "Battery Capacity             object\n",
       "Screen Size                  object\n",
       "Launched Price (Pakistan)    object\n",
       "Launched Price (India)       object\n",
       "Launched Price (China)       object\n",
       "Launched Price (USA)         object\n",
       "Launched Price (Dubai)       object\n",
       "Launched Year                 int64\n",
       "dtype: object"
      ]
     },
     "execution_count": 11,
     "metadata": {},
     "output_type": "execute_result"
    }
   ],
   "source": [
    "df.dtypes #GETTING ALL THE DATATYPES OF THE VALUES IN EVERY COLUMN"
   ]
  },
  {
   "cell_type": "code",
   "execution_count": 13,
   "id": "c6277df7-aa11-47d2-8137-5c05feb9b6ab",
   "metadata": {},
   "outputs": [
    {
     "data": {
      "text/plain": [
       "Index(['Company Name', 'Model Name', 'Mobile Weight', 'RAM', 'Front Camera',\n",
       "       'Back Camera', 'Processor', 'Battery Capacity', 'Screen Size',\n",
       "       'Launched Price (Pakistan)', 'Launched Price (India)',\n",
       "       'Launched Price (China)', 'Launched Price (USA)',\n",
       "       'Launched Price (Dubai)', 'Launched Year'],\n",
       "      dtype='object')"
      ]
     },
     "execution_count": 13,
     "metadata": {},
     "output_type": "execute_result"
    }
   ],
   "source": [
    "df.columns #GETTING THE COLUMN NAMES"
   ]
  },
  {
   "cell_type": "code",
   "execution_count": 15,
   "id": "fc04752e-de2c-4704-8323-5f906001e3fb",
   "metadata": {},
   "outputs": [],
   "source": [
    "#REMOVING THE COLUMNS WE DONT NEED AND UPDATING THE DATASET\n",
    "df= df[['Company Name', 'Model Name','Mobile Weight', 'RAM', 'Front Camera',\n",
    "       'Back Camera','Processor', 'Battery Capacity', 'Screen Size','Launched Price (India)','Launched Year']].copy()"
   ]
  },
  {
   "cell_type": "code",
   "execution_count": 17,
   "id": "ba358091-caab-40f5-bc78-a7106b991c49",
   "metadata": {},
   "outputs": [],
   "source": [
    "#UPDATING  THE DATATYPE OF A COLUMN\n",
    "df['Launched Price (India)'] = df['Launched Price (India)'].astype('str')"
   ]
  },
  {
   "cell_type": "code",
   "execution_count": 19,
   "id": "afebf856-4011-4ba4-887b-6202bd3dfa5b",
   "metadata": {},
   "outputs": [
    {
     "data": {
      "text/plain": [
       "Company Name              object\n",
       "Model Name                object\n",
       "Mobile Weight             object\n",
       "RAM                       object\n",
       "Front Camera              object\n",
       "Back Camera               object\n",
       "Processor                 object\n",
       "Battery Capacity          object\n",
       "Screen Size               object\n",
       "Launched Price (India)    object\n",
       "Launched Year              int64\n",
       "dtype: object"
      ]
     },
     "execution_count": 19,
     "metadata": {},
     "output_type": "execute_result"
    }
   ],
   "source": [
    "df.dtypes"
   ]
  },
  {
   "cell_type": "code",
   "execution_count": 21,
   "id": "f3053b65-caa7-4458-a2e5-133e3d1dfba2",
   "metadata": {},
   "outputs": [],
   "source": [
    "#REMOVING INR FROM Launched Price (India)\n",
    "df['Launched Price (India)'] = df['Launched Price (India)'].str.split(' ').str.get(1)"
   ]
  },
  {
   "cell_type": "code",
   "execution_count": 23,
   "id": "cd531015-54df-4623-9e5c-cdf57017dcf6",
   "metadata": {},
   "outputs": [],
   "source": [
    "#RENAMING THE COLUMN\n",
    "df = df.rename(columns={'Launched Price (India)':'Launched Price'})"
   ]
  },
  {
   "cell_type": "code",
   "execution_count": 25,
   "id": "f88872d4-e9d9-44eb-992a-8400adb09555",
   "metadata": {},
   "outputs": [
    {
     "data": {
      "text/plain": [
       "Company Name        0\n",
       "Model Name          0\n",
       "Mobile Weight       0\n",
       "RAM                 0\n",
       "Front Camera        0\n",
       "Back Camera         0\n",
       "Processor           0\n",
       "Battery Capacity    0\n",
       "Screen Size         0\n",
       "Launched Price      0\n",
       "Launched Year       0\n",
       "dtype: int64"
      ]
     },
     "execution_count": 25,
     "metadata": {},
     "output_type": "execute_result"
    }
   ],
   "source": [
    "#CHECKING IF THERE'S ANY NULL VALUE\n",
    "df.isna().sum()"
   ]
  },
  {
   "cell_type": "code",
   "execution_count": 27,
   "id": "24a6caa8-a5df-421c-b21c-a02e4df161c0",
   "metadata": {},
   "outputs": [],
   "source": [
    "df['Launched Price'] = df['Launched Price'].str.replace(',', '', regex=False)"
   ]
  },
  {
   "cell_type": "code",
   "execution_count": 29,
   "id": "efa66a89-0751-4555-a600-6129f5aeada2",
   "metadata": {},
   "outputs": [],
   "source": [
    "df['Launched Price'] = pd.to_numeric(df['Launched Price'])"
   ]
  },
  {
   "cell_type": "code",
   "execution_count": 31,
   "id": "3d26cc4b-aa22-4cd5-a09c-d4eb5f50ff26",
   "metadata": {},
   "outputs": [
    {
     "data": {
      "text/html": [
       "<div>\n",
       "<style scoped>\n",
       "    .dataframe tbody tr th:only-of-type {\n",
       "        vertical-align: middle;\n",
       "    }\n",
       "\n",
       "    .dataframe tbody tr th {\n",
       "        vertical-align: top;\n",
       "    }\n",
       "\n",
       "    .dataframe thead th {\n",
       "        text-align: right;\n",
       "    }\n",
       "</style>\n",
       "<table border=\"1\" class=\"dataframe\">\n",
       "  <thead>\n",
       "    <tr style=\"text-align: right;\">\n",
       "      <th></th>\n",
       "      <th>Company Name</th>\n",
       "      <th>Model Name</th>\n",
       "      <th>Mobile Weight</th>\n",
       "      <th>RAM</th>\n",
       "      <th>Front Camera</th>\n",
       "      <th>Back Camera</th>\n",
       "      <th>Processor</th>\n",
       "      <th>Battery Capacity</th>\n",
       "      <th>Screen Size</th>\n",
       "      <th>Launched Price</th>\n",
       "      <th>Launched Year</th>\n",
       "    </tr>\n",
       "  </thead>\n",
       "  <tbody>\n",
       "    <tr>\n",
       "      <th>0</th>\n",
       "      <td>Apple</td>\n",
       "      <td>iPhone 16 128GB</td>\n",
       "      <td>174g</td>\n",
       "      <td>6GB</td>\n",
       "      <td>12MP</td>\n",
       "      <td>48MP</td>\n",
       "      <td>A17 Bionic</td>\n",
       "      <td>3,600mAh</td>\n",
       "      <td>6.1 inches</td>\n",
       "      <td>79999</td>\n",
       "      <td>2024</td>\n",
       "    </tr>\n",
       "    <tr>\n",
       "      <th>1</th>\n",
       "      <td>Apple</td>\n",
       "      <td>iPhone 16 256GB</td>\n",
       "      <td>174g</td>\n",
       "      <td>6GB</td>\n",
       "      <td>12MP</td>\n",
       "      <td>48MP</td>\n",
       "      <td>A17 Bionic</td>\n",
       "      <td>3,600mAh</td>\n",
       "      <td>6.1 inches</td>\n",
       "      <td>84999</td>\n",
       "      <td>2024</td>\n",
       "    </tr>\n",
       "    <tr>\n",
       "      <th>2</th>\n",
       "      <td>Apple</td>\n",
       "      <td>iPhone 16 512GB</td>\n",
       "      <td>174g</td>\n",
       "      <td>6GB</td>\n",
       "      <td>12MP</td>\n",
       "      <td>48MP</td>\n",
       "      <td>A17 Bionic</td>\n",
       "      <td>3,600mAh</td>\n",
       "      <td>6.1 inches</td>\n",
       "      <td>89999</td>\n",
       "      <td>2024</td>\n",
       "    </tr>\n",
       "    <tr>\n",
       "      <th>3</th>\n",
       "      <td>Apple</td>\n",
       "      <td>iPhone 16 Plus 128GB</td>\n",
       "      <td>203g</td>\n",
       "      <td>6GB</td>\n",
       "      <td>12MP</td>\n",
       "      <td>48MP</td>\n",
       "      <td>A17 Bionic</td>\n",
       "      <td>4,200mAh</td>\n",
       "      <td>6.7 inches</td>\n",
       "      <td>89999</td>\n",
       "      <td>2024</td>\n",
       "    </tr>\n",
       "    <tr>\n",
       "      <th>4</th>\n",
       "      <td>Apple</td>\n",
       "      <td>iPhone 16 Plus 256GB</td>\n",
       "      <td>203g</td>\n",
       "      <td>6GB</td>\n",
       "      <td>12MP</td>\n",
       "      <td>48MP</td>\n",
       "      <td>A17 Bionic</td>\n",
       "      <td>4,200mAh</td>\n",
       "      <td>6.7 inches</td>\n",
       "      <td>94999</td>\n",
       "      <td>2024</td>\n",
       "    </tr>\n",
       "  </tbody>\n",
       "</table>\n",
       "</div>"
      ],
      "text/plain": [
       "  Company Name            Model Name Mobile Weight  RAM Front Camera  \\\n",
       "0        Apple       iPhone 16 128GB          174g  6GB         12MP   \n",
       "1        Apple       iPhone 16 256GB          174g  6GB         12MP   \n",
       "2        Apple       iPhone 16 512GB          174g  6GB         12MP   \n",
       "3        Apple  iPhone 16 Plus 128GB          203g  6GB         12MP   \n",
       "4        Apple  iPhone 16 Plus 256GB          203g  6GB         12MP   \n",
       "\n",
       "  Back Camera   Processor Battery Capacity Screen Size  Launched Price  \\\n",
       "0        48MP  A17 Bionic         3,600mAh  6.1 inches           79999   \n",
       "1        48MP  A17 Bionic         3,600mAh  6.1 inches           84999   \n",
       "2        48MP  A17 Bionic         3,600mAh  6.1 inches           89999   \n",
       "3        48MP  A17 Bionic         4,200mAh  6.7 inches           89999   \n",
       "4        48MP  A17 Bionic         4,200mAh  6.7 inches           94999   \n",
       "\n",
       "   Launched Year  \n",
       "0           2024  \n",
       "1           2024  \n",
       "2           2024  \n",
       "3           2024  \n",
       "4           2024  "
      ]
     },
     "execution_count": 31,
     "metadata": {},
     "output_type": "execute_result"
    }
   ],
   "source": [
    "df.head()"
   ]
  },
  {
   "cell_type": "code",
   "execution_count": 33,
   "id": "184aaefd-9ddb-4f07-888c-50b13e38c5f1",
   "metadata": {},
   "outputs": [
    {
     "name": "stdout",
     "output_type": "stream",
     "text": [
      "['Apple' 'Samsung' 'OnePlus' 'Vivo' 'iQOO' 'Oppo' 'Realme' 'Xiaomi'\n",
      " 'Lenovo' 'Motorola' 'Huawei' 'Nokia' 'Sony' 'Google' 'Tecno' 'Infinix'\n",
      " 'Honor' 'POCO' 'Poco']\n"
     ]
    }
   ],
   "source": [
    "unique_values = df['Company Name'].unique()\n",
    "print(unique_values)"
   ]
  },
  {
   "cell_type": "code",
   "execution_count": 35,
   "id": "3116806a-e7f7-41c3-b546-cc23434577d4",
   "metadata": {},
   "outputs": [],
   "source": [
    "df.replace(to_replace='POCO', value='Poco', inplace=True)"
   ]
  },
  {
   "cell_type": "code",
   "execution_count": 37,
   "id": "22dbd2ae-4032-418f-aecb-3d1cac3a2942",
   "metadata": {},
   "outputs": [
    {
     "data": {
      "text/plain": [
       "Company Name\n",
       "Oppo        129\n",
       "Apple        97\n",
       "Honor        91\n",
       "Samsung      88\n",
       "Vivo         86\n",
       "Realme       69\n",
       "Motorola     62\n",
       "Infinix      56\n",
       "OnePlus      53\n",
       "Huawei       42\n",
       "Tecno        39\n",
       "Poco         32\n",
       "Xiaomi       27\n",
       "Google       21\n",
       "Lenovo       15\n",
       "Nokia        11\n",
       "Sony          9\n",
       "iQOO          3\n",
       "Name: count, dtype: int64"
      ]
     },
     "execution_count": 37,
     "metadata": {},
     "output_type": "execute_result"
    }
   ],
   "source": [
    "df['Company Name'].value_counts()"
   ]
  },
  {
   "cell_type": "code",
   "execution_count": 39,
   "id": "6327628f-4b1a-4394-9d06-ff2c8356d0d5",
   "metadata": {},
   "outputs": [
    {
     "data": {
      "text/plain": [
       "Text(0, 0.5, 'Count')"
      ]
     },
     "execution_count": 39,
     "metadata": {},
     "output_type": "execute_result"
    },
    {
     "data": {
      "image/png": "[encoded data removed]",
      "text/plain": [
       "<Figure size 640x480 with 1 Axes>"
      ]
     },
     "metadata": {},
     "output_type": "display_data"
    }
   ],
   "source": [
    "ax = df['Company Name'].value_counts() \\\n",
    "    .plot(kind='bar', title='Number of phones introduced')\n",
    "ax.set_xlabel('Company Name')\n",
    "ax.set_ylabel('Count')"
   ]
  },
  {
   "cell_type": "code",
   "execution_count": 41,
   "id": "cd41a380-539b-414f-bfe4-9a35254cb567",
   "metadata": {},
   "outputs": [
    {
     "name": "stdout",
     "output_type": "stream",
     "text": [
      "Company Name\n",
      "Apple       102999.0\n",
      "Google       70332.0\n",
      "Honor        48851.0\n",
      "Huawei      102799.0\n",
      "Infinix      17320.0\n",
      "Lenovo       25392.0\n",
      "Motorola     33693.0\n",
      "Nokia        13772.0\n",
      "OnePlus      45735.0\n",
      "Oppo         43758.0\n",
      "Poco         22796.0\n",
      "Realme       26148.0\n",
      "Samsung      63606.0\n",
      "Sony         91666.0\n",
      "Tecno        36807.0\n",
      "Vivo         35770.0\n",
      "Xiaomi       57258.0\n",
      "iQOO         43999.0\n",
      "Name: Launched Price, dtype: float64\n"
     ]
    }
   ],
   "source": [
    "average_price = df.groupby('Company Name')['Launched Price'].mean().round(0)\n",
    "print(average_price)"
   ]
  },
  {
   "cell_type": "code",
   "execution_count": 43,
   "id": "b732cd4f-b471-4e0f-803d-9552818f4f0a",
   "metadata": {},
   "outputs": [
    {
     "data": {
      "text/plain": [
       "Text(0, 0.5, 'average price')"
      ]
     },
     "execution_count": 43,
     "metadata": {},
     "output_type": "execute_result"
    },
    {
     "data": {
      "image/png": "[encoded data removed]",
      "text/plain": [
       "<Figure size 640x480 with 1 Axes>"
      ]
     },
     "metadata": {},
     "output_type": "display_data"
    }
   ],
   "source": [
    "#plotting average price and company name\n",
    "ax = df.groupby('Company Name')['Launched Price'].mean().round(0) \\\n",
    "    .plot(kind='bar', title='Average price of a phone')\n",
    "ax.set_xlabel('Company Name')\n",
    "ax.set_ylabel('average price')"
   ]
  },
  {
   "cell_type": "code",
   "execution_count": 45,
   "id": "7144de19-81f8-4fc8-8fb9-7909d6d8f112",
   "metadata": {},
   "outputs": [
    {
     "name": "stdout",
     "output_type": "stream",
     "text": [
      "['6GB' '8GB' '4GB' '3GB' '12GB' '2GB' '1.5GB' '16GB' '10GB' '1GB'\n",
      " '8GB / 12GB']\n"
     ]
    }
   ],
   "source": [
    "unique_values = df['RAM'].unique()\n",
    "print(unique_values)"
   ]
  },
  {
   "cell_type": "code",
   "execution_count": 47,
   "id": "8cceecc5-5554-470b-9737-a7ca97985214",
   "metadata": {},
   "outputs": [
    {
     "data": {
      "text/plain": [
       "([0, 1, 2, 3, 4, 5, 6, 7, 8, 9, 10],\n",
       " [Text(0, 0, '6GB'),\n",
       "  Text(1, 0, '8GB'),\n",
       "  Text(2, 0, '4GB'),\n",
       "  Text(3, 0, '3GB'),\n",
       "  Text(4, 0, '12GB'),\n",
       "  Text(5, 0, '2GB'),\n",
       "  Text(6, 0, '1.5GB'),\n",
       "  Text(7, 0, '16GB'),\n",
       "  Text(8, 0, '10GB'),\n",
       "  Text(9, 0, '1GB'),\n",
       "  Text(10, 0, '8GB / 12GB')])"
      ]
     },
     "execution_count": 47,
     "metadata": {},
     "output_type": "execute_result"
    },
    {
     "data": {
      "image/png": "[encoded data removed]",
      "text/plain": [
       "<Figure size 640x480 with 1 Axes>"
      ]
     },
     "metadata": {},
     "output_type": "display_data"
    }
   ],
   "source": [
    "sns.histplot(df , x='RAM')\n",
    "plt.xticks(rotation = 45, ha = 'right')"
   ]
  },
  {
   "cell_type": "code",
   "execution_count": 49,
   "id": "98e4db00-7bed-421c-b243-43f4a53e2c98",
   "metadata": {},
   "outputs": [
    {
     "data": {
      "text/html": [
       "<div>\n",
       "<style scoped>\n",
       "    .dataframe tbody tr th:only-of-type {\n",
       "        vertical-align: middle;\n",
       "    }\n",
       "\n",
       "    .dataframe tbody tr th {\n",
       "        vertical-align: top;\n",
       "    }\n",
       "\n",
       "    .dataframe thead th {\n",
       "        text-align: right;\n",
       "    }\n",
       "</style>\n",
       "<table border=\"1\" class=\"dataframe\">\n",
       "  <thead>\n",
       "    <tr style=\"text-align: right;\">\n",
       "      <th></th>\n",
       "      <th>Company Name</th>\n",
       "      <th>Model Name</th>\n",
       "      <th>Mobile Weight</th>\n",
       "      <th>RAM</th>\n",
       "      <th>Front Camera</th>\n",
       "      <th>Back Camera</th>\n",
       "      <th>Processor</th>\n",
       "      <th>Battery Capacity</th>\n",
       "      <th>Screen Size</th>\n",
       "      <th>Launched Price</th>\n",
       "      <th>Launched Year</th>\n",
       "    </tr>\n",
       "  </thead>\n",
       "  <tbody>\n",
       "    <tr>\n",
       "      <th>0</th>\n",
       "      <td>Apple</td>\n",
       "      <td>iPhone 16 128GB</td>\n",
       "      <td>174g</td>\n",
       "      <td>6GB</td>\n",
       "      <td>12MP</td>\n",
       "      <td>48MP</td>\n",
       "      <td>A17 Bionic</td>\n",
       "      <td>3,600mAh</td>\n",
       "      <td>6.1 inches</td>\n",
       "      <td>79999</td>\n",
       "      <td>2024</td>\n",
       "    </tr>\n",
       "    <tr>\n",
       "      <th>1</th>\n",
       "      <td>Apple</td>\n",
       "      <td>iPhone 16 256GB</td>\n",
       "      <td>174g</td>\n",
       "      <td>6GB</td>\n",
       "      <td>12MP</td>\n",
       "      <td>48MP</td>\n",
       "      <td>A17 Bionic</td>\n",
       "      <td>3,600mAh</td>\n",
       "      <td>6.1 inches</td>\n",
       "      <td>84999</td>\n",
       "      <td>2024</td>\n",
       "    </tr>\n",
       "    <tr>\n",
       "      <th>2</th>\n",
       "      <td>Apple</td>\n",
       "      <td>iPhone 16 512GB</td>\n",
       "      <td>174g</td>\n",
       "      <td>6GB</td>\n",
       "      <td>12MP</td>\n",
       "      <td>48MP</td>\n",
       "      <td>A17 Bionic</td>\n",
       "      <td>3,600mAh</td>\n",
       "      <td>6.1 inches</td>\n",
       "      <td>89999</td>\n",
       "      <td>2024</td>\n",
       "    </tr>\n",
       "    <tr>\n",
       "      <th>3</th>\n",
       "      <td>Apple</td>\n",
       "      <td>iPhone 16 Plus 128GB</td>\n",
       "      <td>203g</td>\n",
       "      <td>6GB</td>\n",
       "      <td>12MP</td>\n",
       "      <td>48MP</td>\n",
       "      <td>A17 Bionic</td>\n",
       "      <td>4,200mAh</td>\n",
       "      <td>6.7 inches</td>\n",
       "      <td>89999</td>\n",
       "      <td>2024</td>\n",
       "    </tr>\n",
       "    <tr>\n",
       "      <th>4</th>\n",
       "      <td>Apple</td>\n",
       "      <td>iPhone 16 Plus 256GB</td>\n",
       "      <td>203g</td>\n",
       "      <td>6GB</td>\n",
       "      <td>12MP</td>\n",
       "      <td>48MP</td>\n",
       "      <td>A17 Bionic</td>\n",
       "      <td>4,200mAh</td>\n",
       "      <td>6.7 inches</td>\n",
       "      <td>94999</td>\n",
       "      <td>2024</td>\n",
       "    </tr>\n",
       "  </tbody>\n",
       "</table>\n",
       "</div>"
      ],
      "text/plain": [
       "  Company Name            Model Name Mobile Weight  RAM Front Camera  \\\n",
       "0        Apple       iPhone 16 128GB          174g  6GB         12MP   \n",
       "1        Apple       iPhone 16 256GB          174g  6GB         12MP   \n",
       "2        Apple       iPhone 16 512GB          174g  6GB         12MP   \n",
       "3        Apple  iPhone 16 Plus 128GB          203g  6GB         12MP   \n",
       "4        Apple  iPhone 16 Plus 256GB          203g  6GB         12MP   \n",
       "\n",
       "  Back Camera   Processor Battery Capacity Screen Size  Launched Price  \\\n",
       "0        48MP  A17 Bionic         3,600mAh  6.1 inches           79999   \n",
       "1        48MP  A17 Bionic         3,600mAh  6.1 inches           84999   \n",
       "2        48MP  A17 Bionic         3,600mAh  6.1 inches           89999   \n",
       "3        48MP  A17 Bionic         4,200mAh  6.7 inches           89999   \n",
       "4        48MP  A17 Bionic         4,200mAh  6.7 inches           94999   \n",
       "\n",
       "   Launched Year  \n",
       "0           2024  \n",
       "1           2024  \n",
       "2           2024  \n",
       "3           2024  \n",
       "4           2024  "
      ]
     },
     "execution_count": 49,
     "metadata": {},
     "output_type": "execute_result"
    }
   ],
   "source": [
    "df.head()"
   ]
  },
  {
   "cell_type": "code",
   "execution_count": 51,
   "id": "049ddc7e-6fed-4d8a-807a-ae34ec1613b0",
   "metadata": {},
   "outputs": [],
   "source": [
    "#QUESTION WHAT IS THE AVERAGE PRICE OF A COMPANIES PRODUCT IN THE YEARS"
   ]
  },
  {
   "cell_type": "code",
   "execution_count": 53,
   "id": "acc48754-5839-4009-8940-48bd3cc9a4d4",
   "metadata": {},
   "outputs": [
    {
     "name": "stdout",
     "output_type": "stream",
     "text": [
      "Company Name  Launched Year\n",
      "Apple         2017              94900.000000\n",
      "              2018             101566.666667\n",
      "              2019              91263.636364\n",
      "              2020             106640.740741\n",
      "              2021             107816.666667\n",
      "              2022             104999.000000\n",
      "              2023             102915.666667\n",
      "              2024             101249.000000\n",
      "Google        2019              53749.000000\n",
      "              2020              39999.000000\n",
      "              2021              60999.000000\n",
      "              2022              66332.333333\n",
      "              2023              71665.666667\n",
      "              2024             108999.000000\n",
      "Honor         2020              24999.000000\n",
      "              2021              38449.000000\n",
      "              2022              51293.117647\n",
      "              2023              42061.500000\n",
      "              2024              83054.555556\n",
      "Huawei        2021              96141.857143\n",
      "              2022              80713.285714\n",
      "              2023             110999.000000\n",
      "              2024             109420.222222\n",
      "Infinix       2020              11943.444444\n",
      "              2021              11427.571429\n",
      "              2022              12276.777778\n",
      "              2023              17589.909091\n",
      "              2024              23924.000000\n",
      "Lenovo        2018              21400.000000\n",
      "              2019              22665.666667\n",
      "              2021              11499.000000\n",
      "              2022              37799.000000\n",
      "Motorola      2022              23221.222222\n",
      "              2023              30124.000000\n",
      "              2024              39721.222222\n",
      "Nokia         2021              13249.000000\n",
      "              2022              16749.000000\n",
      "              2023              11599.000000\n",
      "OnePlus       2017              35999.000000\n",
      "              2018              44499.000000\n",
      "              2019              64999.000000\n",
      "              2020              36922.076923\n",
      "              2021              35874.000000\n",
      "              2022              42570.428571\n",
      "              2023              53784.714286\n",
      "              2024              62999.000000\n",
      "Oppo          2019              28332.333333\n",
      "              2020              22832.333333\n",
      "              2021              26738.130435\n",
      "              2022              40997.333333\n",
      "              2023              56249.166667\n",
      "              2024              58554.555556\n",
      "              2025              53749.000000\n",
      "Poco          2020              19999.000000\n",
      "              2021              20999.000000\n",
      "              2022              21415.666667\n",
      "              2023              23332.333333\n",
      "              2024              25499.000000\n",
      "              2025              25499.000000\n",
      "Realme        2021              21499.000000\n",
      "              2022              23249.000000\n",
      "              2023              28340.545455\n",
      "              2024              25544.454545\n",
      "              2025              30999.000000\n",
      "Samsung       2016              17869.500000\n",
      "              2017              20990.000000\n",
      "              2018              14993.000000\n",
      "              2019              71249.000000\n",
      "              2020              75070.428571\n",
      "              2021              55999.000000\n",
      "              2022              72174.500000\n",
      "              2023              52652.055556\n",
      "              2024             117739.600000\n",
      "Sony          2022              86665.666667\n",
      "              2023              91665.666667\n",
      "              2024              96665.666667\n",
      "Tecno         2024              36806.692308\n",
      "Vivo          2014              13999.000000\n",
      "              2016              13999.000000\n",
      "              2017              20999.000000\n",
      "              2018              19996.000000\n",
      "              2019              28649.062500\n",
      "              2020              20992.250000\n",
      "              2021              25784.714286\n",
      "              2022              42908.090909\n",
      "              2023              30582.333333\n",
      "              2024              78845.153846\n",
      "Xiaomi        2023              84999.000000\n",
      "              2024              52433.782609\n",
      "iQOO          2023              37999.000000\n",
      "              2024              46999.000000\n",
      "Name: Launched Price, dtype: float64\n"
     ]
    }
   ],
   "source": [
    "grouped = df.groupby(['Company Name','Launched Year'])['Launched Price'].mean()\n",
    "print(grouped)"
   ]
  },
  {
   "cell_type": "code",
   "execution_count": null,
   "id": "57afcc59-6704-4326-9008-f7e55e6cc3bf",
   "metadata": {},
   "outputs": [],
   "source": []
  },
  {
   "cell_type": "code",
   "execution_count": null,
   "id": "2b6910cd-781e-4888-a296-f843cdedf9a7",
   "metadata": {},
   "outputs": [],
   "source": []
  },
  {
   "cell_type": "code",
   "execution_count": null,
   "id": "9c7ac72c-c7c6-4cc8-b674-039adce5bbfb",
   "metadata": {},
   "outputs": [],
   "source": []
  },
  {
   "cell_type": "code",
   "execution_count": null,
   "id": "083b43cf-d6e3-4613-bf53-a65db962c6da",
   "metadata": {},
   "outputs": [],
   "source": []
  }
 ],
 "metadata": {
  "kernelspec": {
   "display_name": "Python [conda env:base] *",
   "language": "python",
   "name": "conda-base-py"
  },
  "language_info": {
   "codemirror_mode": {
    "name": "ipython",
    "version": 3
   },
   "file_extension": ".py",
   "mimetype": "text/x-python",
   "name": "python",
   "nbconvert_exporter": "python",
   "pygments_lexer": "ipython3",
   "version": "3.12.7"
  }
 },
 "nbformat": 4,
 "nbformat_minor": 5
}
